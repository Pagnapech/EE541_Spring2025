{
  "cells": [
    {
      "cell_type": "markdown",
      "metadata": {
        "id": "ErWrm6KqM5sm"
      },
      "source": [
        "## Data Preprocessing"
      ]
    },
    {
      "cell_type": "code",
      "execution_count": 1,
      "metadata": {
        "id": "me547SOSSMi7"
      },
      "outputs": [],
      "source": [
        "import zipfile as zip\n",
        "import yaml\n",
        "import os\n",
        "from PIL import Image\n",
        "import shutil"
      ]
    },
    {
      "cell_type": "code",
      "execution_count": 2,
      "metadata": {
        "id": "vbJ1gu26FBWA"
      },
      "outputs": [],
      "source": [
        "# Extract the zip file data\n",
        "zip_ref = zip.ZipFile(\"traffic_sign_detection.zip\", \"r\")\n",
        "zip_ref.extractall(\"traffic_sign_detection\")\n",
        "zip_ref.close()\n",
        "\n",
        "# print(zip_ref)\n"
      ]
    },
    {
      "cell_type": "code",
      "execution_count": 3,
      "metadata": {
        "id": "3MfuB1tQSs6X"
      },
      "outputs": [
        {
          "name": "stdout",
          "output_type": "stream",
          "text": [
            "Class names: ['Green Light', 'Red Light', 'Speed Limit 10', 'Speed Limit 100', 'Speed Limit 110', 'Speed Limit 120', 'Speed Limit 20', 'Speed Limit 30', 'Speed Limit 40', 'Speed Limit 50', 'Speed Limit 60', 'Speed Limit 70', 'Speed Limit 80', 'Speed Limit 90', 'Stop']\n",
            "Number of classes: 15\n"
          ]
        }
      ],
      "source": [
        "# Getdata data path and class names from data yaml\n",
        "yaml_path = \"traffic_sign_detection/car/data.yaml\"\n",
        "with open(yaml_path, \"r\") as file:\n",
        "    data = yaml.safe_load(file)\n",
        "\n",
        "# print(data)\n",
        "\n",
        "class_names = data[\"names\"]\n",
        "print(f'Class names: {class_names}')\n",
        "print(f'Number of classes: {len(class_names)}')\n"
      ]
    },
    {
      "cell_type": "code",
      "execution_count": 4,
      "metadata": {
        "id": "z-OuMj_XUMjk"
      },
      "outputs": [],
      "source": [
        "# Resize the images from 416 x 416 to 224 x 224\n",
        "# Create a new folder for test/train/valid of the resized image\n",
        "access_data_path = \"traffic_sign_detection/car\"\n",
        "resized_data_path = \"traffic_sign_detection/car_resized\"\n",
        "original_folders = [\"train\", \"test\", \"valid\"]\n",
        "target_size = (224, 224)\n",
        "\n",
        "# create a new folder for car/ train,test,valid folder\n",
        "os.makedirs(resized_data_path, exist_ok=True)\n",
        "\n",
        "for folder in original_folders:\n",
        "  original_folder_path = os.path.join(access_data_path, folder, \"images\")\n",
        "  resized_folder_path = os.path.join(resized_data_path, folder, \"images\")\n",
        "  # create new folder for train, test, valid folders inside car_resized\n",
        "  os.makedirs(resized_folder_path, exist_ok=True)\n",
        "\n",
        "  # resized the images\n",
        "  if os.path.exists(original_folder_path):\n",
        "    # get each image files\n",
        "    image_files = [f for f in os.listdir(original_folder_path) if f.endswith(('.jpg', '.jpeg', '.png'))]\n",
        "\n",
        "    # loop thru each image and resize\n",
        "    for image_file in image_files:\n",
        "      image_path = os.path.join(original_folder_path, image_file)\n",
        "      img = Image.open(image_path)\n",
        "      img = img.resize(target_size, resample=Image.LANCZOS)\n",
        "      img.save(os.path.join(resized_folder_path, image_file))\n",
        "\n",
        "  # copy labels to the car_resized\n",
        "  original_folder_path = os.path.join(access_data_path, folder, \"labels\")\n",
        "  resized_folder_path = os.path.join(resized_data_path, folder, \"labels\")\n",
        "  os.makedirs(resized_folder_path, exist_ok=True)\n",
        "\n",
        "  if os.path.exists(original_folder_path):\n",
        "    # copy each label file\n",
        "    for label_file in os.listdir(original_folder_path):\n",
        "      src_file = os.path.join(original_folder_path, label_file)\n",
        "      dst_file = os.path.join(resized_folder_path, label_file)\n",
        "      shutil.copy2(src_file, dst_file)\n",
        "\n"
      ]
    },
    {
      "cell_type": "markdown",
      "metadata": {
        "id": "cfMyV7J8SK3J"
      },
      "source": []
    },
    {
      "cell_type": "markdown",
      "metadata": {
        "id": "xf9K4Sh_m62G"
      },
      "source": []
    },
    {
      "cell_type": "code",
      "execution_count": null,
      "metadata": {
        "id": "Vkgq0V9yce6G"
      },
      "outputs": [],
      "source": [
        "# !rm -rf data.zip"
      ]
    },
    {
      "cell_type": "code",
      "execution_count": null,
      "metadata": {
        "colab": {
          "base_uri": "https://localhost:8080/",
          "height": 196
        },
        "id": "mMmD7B8ucjdk",
        "outputId": "600281b2-ee45-4b87-de4b-62798083bdbe"
      },
      "outputs": [
        {
          "name": "stdout",
          "output_type": "stream",
          "text": [
            "  adding: traffic_sign_detection/car_resized/ (stored 0%)\n",
            "  adding: traffic_sign_detection/car_resized/test/ (stored 0%)\n",
            "  adding: traffic_sign_detection/car_resized/test/images/ (stored 0%)\n",
            "  adding: traffic_sign_detection/car_resized/test/labels/ (stored 0%)\n",
            "  adding: traffic_sign_detection/car_resized/train/ (stored 0%)\n",
            "  adding: traffic_sign_detection/car_resized/train/images/ (stored 0%)\n",
            "  adding: traffic_sign_detection/car_resized/train/labels/ (stored 0%)\n",
            "  adding: traffic_sign_detection/car_resized/valid/ (stored 0%)\n",
            "  adding: traffic_sign_detection/car_resized/valid/images/ (stored 0%)\n",
            "  adding: traffic_sign_detection/car_resized/valid/labels/ (stored 0%)\n"
          ]
        },
        {
          "data": {
            "application/javascript": "\n    async function download(id, filename, size) {\n      if (!google.colab.kernel.accessAllowed) {\n        return;\n      }\n      const div = document.createElement('div');\n      const label = document.createElement('label');\n      label.textContent = `Downloading \"${filename}\": `;\n      div.appendChild(label);\n      const progress = document.createElement('progress');\n      progress.max = size;\n      div.appendChild(progress);\n      document.body.appendChild(div);\n\n      const buffers = [];\n      let downloaded = 0;\n\n      const channel = await google.colab.kernel.comms.open(id);\n      // Send a message to notify the kernel that we're ready.\n      channel.send({})\n\n      for await (const message of channel.messages) {\n        // Send a message to notify the kernel that we're ready.\n        channel.send({})\n        if (message.buffers) {\n          for (const buffer of message.buffers) {\n            buffers.push(buffer);\n            downloaded += buffer.byteLength;\n            progress.value = downloaded;\n          }\n        }\n      }\n      const blob = new Blob(buffers, {type: 'application/binary'});\n      const a = document.createElement('a');\n      a.href = window.URL.createObjectURL(blob);\n      a.download = filename;\n      div.appendChild(a);\n      a.click();\n      div.remove();\n    }\n  ",
            "text/plain": [
              "<IPython.core.display.Javascript object>"
            ]
          },
          "metadata": {},
          "output_type": "display_data"
        },
        {
          "data": {
            "application/javascript": "download(\"download_a5225f6a-09f5-48a7-b3ce-c5ea183fde78\", \"car_resized.zip\", 2188)",
            "text/plain": [
              "<IPython.core.display.Javascript object>"
            ]
          },
          "metadata": {},
          "output_type": "display_data"
        }
      ],
      "source": [
        "# # 1. Compress the folder into a .zip\n",
        "# !zip -r car_resized.zip traffic_sign_detection/car_resized\n",
        "\n",
        "# # 2. Download the zip file\n",
        "# from google.colab import files\n",
        "# files.download('car_resized.zip')\n"
      ]
    },
    {
      "cell_type": "code",
      "execution_count": null,
      "metadata": {
        "id": "JUjbdcHOkmAf"
      },
      "outputs": [],
      "source": []
    }
  ],
  "metadata": {
    "colab": {
      "provenance": []
    },
    "kernelspec": {
      "display_name": "EE541_Spring2025",
      "language": "python",
      "name": "python3"
    },
    "language_info": {
      "codemirror_mode": {
        "name": "ipython",
        "version": 3
      },
      "file_extension": ".py",
      "mimetype": "text/x-python",
      "name": "python",
      "nbconvert_exporter": "python",
      "pygments_lexer": "ipython3",
      "version": "3.11.5"
    }
  },
  "nbformat": 4,
  "nbformat_minor": 0
}
